{
 "cells": [
  {
   "cell_type": "markdown",
   "id": "6e618dc8-b431-4850-80ce-7f53246ae382",
   "metadata": {},
   "source": [
    "# How to use pyELQ\n",
    "This example is intended to provide a basic overview on how to work with the pyELQ repo. We will set up a basic example where we generate some concentration data and try to estimate the source location and emisson rate of these synthetic sources.\n",
    "\n",
    "First we import all the required packages."
   ]
  },
  {
   "cell_type": "code",
   "execution_count": null,
   "id": "b315a63d-29d4-4163-9d73-50ed9622eec5",
   "metadata": {},
   "outputs": [],
   "source": [
    "import datetime\n",
    "from copy import deepcopy\n",
    "\n",
    "import numpy as np\n",
    "import pandas as pd\n",
    "import plotly.graph_objects as go\n",
    "from pyelq.component.background import SpatioTemporalBackground\n",
    "from pyelq.component.error_model import BySensor\n",
    "from pyelq.component.offset import PerSensor\n",
    "from pyelq.component.source_model import Normal\n",
    "from pyelq.coordinate_system import ENU, LLA\n",
    "from pyelq.dispersion_model.gaussian_plume import GaussianPlume\n",
    "from pyelq.gas_species import CH4\n",
    "from pyelq.model import ELQModel\n",
    "from pyelq.meteorology import Meteorology\n",
    "from pyelq.plotting.plot import Plot\n",
    "from pyelq.preprocessing import Preprocessor\n",
    "from pyelq.sensor.beam import Beam\n",
    "from pyelq.sensor.sensor import Sensor, SensorGroup\n",
    "from pyelq.source_map import SourceMap"
   ]
  },
  {
   "cell_type": "markdown",
   "id": "d1df63d6-8fc1-4c02-991a-703dbf3fd17f",
   "metadata": {},
   "source": [
    "Next we set up a time axis as well as a reference point which we use in our local coordinate systems."
   ]
  },
  {
   "cell_type": "code",
   "execution_count": 2,
   "id": "da0c9d2b-eb55-4bc2-b03f-557a3eff352a",
   "metadata": {},
   "outputs": [],
   "source": [
    "time_axis = pd.array(\n",
    "    pd.date_range(start=\"2024-01-01 08:00:00\", end=\"2024-01-01 12:00:00\", freq=\"120s\"), dtype=\"datetime64[ns]\"\n",
    ")\n",
    "nof_observations = time_axis.size\n",
    "reference_latitude = 0\n",
    "reference_longitude = 0\n",
    "reference_altitude = 0"
   ]
  },
  {
   "cell_type": "markdown",
   "id": "8de54af3-325d-498f-aca5-0ed57b202db8",
   "metadata": {},
   "source": [
    "We define a couple of regularly spaced beam sensors by creating a local ENU frame, defining the beam end points in that coordinate frame and next transform the ENU coordinates to LLA coordinates."
   ]
  },
  {
   "cell_type": "code",
   "execution_count": 3,
   "id": "9a813265-29eb-4737-b8a4-76e1f2733747",
   "metadata": {},
   "outputs": [],
   "source": [
    "radius = 30\n",
    "angles = np.linspace(0, 90, 5)\n",
    "sensor_x = radius * np.cos(angles * np.pi / 180)\n",
    "sensor_y = radius * np.sin(angles * np.pi / 180)\n",
    "sensor_z = np.ones_like(sensor_x) * 5.0"
   ]
  },
  {
   "cell_type": "code",
   "execution_count": null,
   "id": "4df901ae-fd64-4836-8120-cb02533282fd",
   "metadata": {},
   "outputs": [],
   "source": [
    "ENU_object = ENU(ref_latitude=reference_latitude, ref_longitude=reference_longitude, ref_altitude=reference_altitude)\n",
    "ENU_object.from_array(np.vstack([sensor_x, sensor_y, sensor_z]).T)\n",
    "LLA_object = ENU_object.to_lla()\n",
    "LLA_array = LLA_object.to_array()\n",
    "print(LLA_array)"
   ]
  },
  {
   "cell_type": "markdown",
   "id": "bd5c7329-c005-49ed-bc8b-c812c2b4f02a",
   "metadata": {},
   "source": [
    "We create a SensorGroup which contains all the 5 beams we have set up. We set the sensor position (beam start points) to be at the reference latitude and longitude. At an altitude of 3 meters, similar to the beam end points. The beam layout can be seen in the plot. We initialize the concentration and the time attributes of the sensor so we can use it later to calculate the simulated concentration observations."
   ]
  },
  {
   "cell_type": "code",
   "execution_count": 5,
   "id": "f3338ee8-3c47-40eb-8721-b014f1c74f88",
   "metadata": {},
   "outputs": [],
   "source": [
    "nof_sensors = LLA_array.shape[0]\n",
    "sensor_group = SensorGroup()\n",
    "for sensor in range(nof_sensors):\n",
    "    new_sensor = Beam()\n",
    "    new_sensor.label = f\"Beam sensor {sensor}\"\n",
    "    new_sensor.location = LLA(\n",
    "        latitude=np.array([reference_latitude, LLA_object.latitude[sensor]]),\n",
    "        longitude=np.array([reference_longitude, LLA_object.longitude[sensor]]),\n",
    "        altitude=np.array([5.0, LLA_object.altitude[sensor]]),\n",
    "    )\n",
    "\n",
    "    new_sensor.time = time_axis\n",
    "    new_sensor.concentration = np.zeros(nof_observations)\n",
    "    sensor_group.add_sensor(new_sensor)"
   ]
  },
  {
   "cell_type": "markdown",
   "id": "717fba57-ff5f-4977-9fcb-d0969182bd0e",
   "metadata": {},
   "source": [
    "Let's also add some point sensors to our SensorGroup"
   ]
  },
  {
   "cell_type": "code",
   "execution_count": 6,
   "id": "b7452c52-be86-467c-a2dd-54e57892b637",
   "metadata": {},
   "outputs": [],
   "source": [
    "sensor_x = np.array([5, 20])\n",
    "sensor_y = np.array([22, 5])\n",
    "sensor_z = np.ones_like(sensor_x) * 1.0\n",
    "ENU_object = ENU(ref_latitude=reference_latitude, ref_longitude=reference_longitude, ref_altitude=reference_altitude)\n",
    "ENU_object.from_array(np.vstack([sensor_x, sensor_y, sensor_z]).T)\n",
    "LLA_object = ENU_object.to_lla()\n",
    "LLA_array = LLA_object.to_array()\n",
    "\n",
    "nof_sensors = LLA_array.shape[0]\n",
    "for sensor in range(nof_sensors):\n",
    "    new_sensor = Sensor()\n",
    "    new_sensor.label = f\"Point sensor {sensor}\"\n",
    "    new_sensor.location = LLA(\n",
    "        latitude=np.array([LLA_object.latitude[sensor]]),\n",
    "        longitude=np.array([LLA_object.longitude[sensor]]),\n",
    "        altitude=np.array([LLA_object.altitude[sensor]]),\n",
    "    )\n",
    "\n",
    "    new_sensor.time = time_axis\n",
    "    new_sensor.concentration = np.zeros(nof_observations)\n",
    "    sensor_group.add_sensor(new_sensor)"
   ]
  },
  {
   "cell_type": "code",
   "execution_count": null,
   "id": "d23ea54d-cbf9-40a4-9fc0-bd54037991fb",
   "metadata": {},
   "outputs": [],
   "source": [
    "fig = go.Figure()\n",
    "fig = sensor_group.plot_sensor_location(fig=fig)\n",
    "fig.update_layout(\n",
    "    map_style=\"open-street-map\",\n",
    "    map_center=dict(lat=reference_latitude, lon=reference_longitude),\n",
    "    map_zoom=18,\n",
    "    height=800,\n",
    "    margin={\"r\": 0, \"l\": 0, \"b\": 0},\n",
    ")\n",
    "fig.show()"
   ]
  },
  {
   "cell_type": "markdown",
   "id": "b4048ff4-f85d-498b-a468-3eb32af208a0",
   "metadata": {},
   "source": [
    "We use the meteorology object to store the simulated meteorology observations like wind speed and direction and show these in a wind rose plot."
   ]
  },
  {
   "cell_type": "code",
   "execution_count": null,
   "id": "703e57c6-246f-429b-ac5d-050539bb81fa",
   "metadata": {},
   "outputs": [],
   "source": [
    "met_object = Meteorology()\n",
    "random_generator = np.random.default_rng(0)\n",
    "\n",
    "met_object.time = time_axis\n",
    "met_object.wind_direction = np.linspace(0.0, 90.0, nof_observations) + random_generator.normal(\n",
    "    loc=0.0, scale=0.1, size=nof_observations\n",
    ")\n",
    "met_object.wind_speed = 4.0 * np.ones_like(met_object.wind_direction) + random_generator.normal(\n",
    "    loc=0.0, scale=0.1, size=nof_observations\n",
    ")\n",
    "\n",
    "met_object.calculate_uv_from_wind_speed_direction()\n",
    "\n",
    "met_object.temperature = (273.1 + 15.0) * np.ones_like(met_object.wind_direction)\n",
    "met_object.pressure = 101.325 * np.ones_like(met_object.wind_direction)\n",
    "\n",
    "met_object.wind_turbulence_horizontal = 5.0 * np.ones_like(met_object.wind_direction)\n",
    "met_object.wind_turbulence_vertical = 5.0 * np.ones_like(met_object.wind_direction)\n",
    "\n",
    "fig = met_object.plot_polar_hist()\n",
    "fig.update_layout(height=400, margin={\"r\": 0, \"l\": 0})\n",
    "fig.show()"
   ]
  },
  {
   "cell_type": "code",
   "execution_count": null,
   "id": "3e5e6644-03a3-4357-904d-88f3ede974b2",
   "metadata": {},
   "outputs": [],
   "source": [
    "fig = go.Figure()\n",
    "fig.add_trace(go.Scatter(x=time_axis, y=met_object.wind_direction, mode=\"markers\", name=\"Wind direction\"))\n",
    "fig.update_layout(height=400, margin={\"r\": 0, \"l\": 0}, title=\"Wind Direction [deg]\")\n",
    "fig.show()"
   ]
  },
  {
   "cell_type": "markdown",
   "id": "a0e6ef8f-ad67-40b5-a762-59280b34ee82",
   "metadata": {},
   "source": [
    "We set up a source map which contains the location information of the simulated sources. We define them in a certain location but could also let this object generate sources using for example a latin hypercube design within the specifies site limits."
   ]
  },
  {
   "cell_type": "code",
   "execution_count": 10,
   "id": "379f3820-ea9c-4cc0-ae94-1558e2eb21a4",
   "metadata": {},
   "outputs": [],
   "source": [
    "source_map = SourceMap()\n",
    "site_limits = np.array([[0, 30], [0, 30], [0, 3]])\n",
    "location_object = ENU(\n",
    "    ref_latitude=reference_latitude, ref_longitude=reference_longitude, ref_altitude=reference_altitude\n",
    ")\n",
    "\n",
    "source_map.generate_sources(\n",
    "    coordinate_object=location_object, sourcemap_limits=site_limits, sourcemap_type=\"hypercube\", nof_sources=2\n",
    ")\n",
    "\n",
    "source_map.location.up = np.array([2.0, 3.0])\n",
    "source_map.location.east = np.array([10.0, 20.0])\n",
    "source_map.location.north = np.array([20.0, 15.0])"
   ]
  },
  {
   "cell_type": "code",
   "execution_count": null,
   "id": "38504528-3537-4bd5-8f51-2bedca548fa1",
   "metadata": {},
   "outputs": [],
   "source": [
    "fig = go.Figure()\n",
    "fig = sensor_group.plot_sensor_location(fig=fig)\n",
    "fig.update_layout(\n",
    "    map_style=\"open-street-map\",\n",
    "    map_center=dict(lat=reference_latitude, lon=reference_longitude),\n",
    "    map_zoom=18,\n",
    "    height=800,\n",
    "    margin={\"r\": 0, \"l\": 0, \"b\": 0},\n",
    ")\n",
    "fig.add_trace(\n",
    "    go.Scattermap(\n",
    "        mode=\"markers\",\n",
    "        lon=source_map.location.to_lla().longitude,\n",
    "        lat=source_map.location.to_lla().latitude,\n",
    "        name=\"True locations\",\n",
    "        marker=go.scattermap.Marker(color=\"green\", size=10),\n",
    "    )\n",
    ")\n",
    "fig.show()"
   ]
  },
  {
   "cell_type": "markdown",
   "id": "bce2eafe-acbf-40c9-8e3d-94f348bc660c",
   "metadata": {},
   "source": [
    "After defining the gas species we are interested in we set the true emission rates and generate the real observations. We calculate the coupling from each source to each sensor using a Gaussian plume model and multiply this coupling with the emission rates of the respective sources. We add this source contribution to the background (in this case 2.0 ppm) and also add some random (measurement) noise. These simulated observations are populating the concentration attribute of each sensor in the sensorgroup. The resulting data is shown in the plot."
   ]
  },
  {
   "cell_type": "code",
   "execution_count": 12,
   "id": "c5c3972b-0ad4-4c83-b13c-3345350fe501",
   "metadata": {},
   "outputs": [],
   "source": [
    "gas_object = CH4()\n",
    "dispersion_model = GaussianPlume(source_map=deepcopy(source_map))\n",
    "true_emission_rates = np.array([[15], [10]])\n",
    "for current_sensor in sensor_group.values():\n",
    "    coupling_matrix = dispersion_model.compute_coupling(\n",
    "        sensor_object=current_sensor,\n",
    "        meteorology_object=met_object,\n",
    "        gas_object=gas_object,\n",
    "        output_stacked=False,\n",
    "        run_interpolation=False,\n",
    "    )\n",
    "    source_contribution = coupling_matrix @ true_emission_rates\n",
    "    observation = (\n",
    "        source_contribution.flatten()\n",
    "        + 2.0\n",
    "        + random_generator.normal(loc=0.0, scale=0.01, size=current_sensor.nof_observations)\n",
    "    )\n",
    "    current_sensor.concentration = observation"
   ]
  },
  {
   "cell_type": "code",
   "execution_count": null,
   "id": "734d39c9-63e1-4818-bcba-5c4f4e6eeede",
   "metadata": {},
   "outputs": [],
   "source": [
    "fig = go.Figure()\n",
    "fig = sensor_group.plot_timeseries(fig=fig)\n",
    "fig.update_layout(height=800, margin={\"r\": 0, \"t\": 10, \"l\": 0, \"b\": 0})\n",
    "fig.show()"
   ]
  },
  {
   "cell_type": "code",
   "execution_count": null,
   "id": "5e753113",
   "metadata": {},
   "outputs": [],
   "source": [
    "fig = go.Figure()\n",
    "fig = met_object.plot_polar_scatter(fig=fig, sensor_object=sensor_group)\n",
    "fig.update_layout(height=400, margin={\"r\": 0, \"l\": 0})\n",
    "fig.show()"
   ]
  },
  {
   "cell_type": "markdown",
   "id": "c3f5c90e-e753-4799-9af7-6d4ac835d69e",
   "metadata": {},
   "source": [
    "Normally these raw datasets need some preprocessing like smoothing the data and making sure all the time axes align. Therefore we created the preprocessor class. We show the functionality to apply an aggregate function on the data within the user specified time bins and also show how to apply a wind filter, even though the wind speeds we simulated are most likely all larger than the lower limit."
   ]
  },
  {
   "cell_type": "code",
   "execution_count": 15,
   "id": "625bf435-57c5-4688-a858-335d7a551acb",
   "metadata": {},
   "outputs": [],
   "source": [
    "analysis_time_range = [datetime.datetime(2024, 1, 1, 8, 0, 0), datetime.datetime(2024, 1, 1, 12, 0, 0)]\n",
    "\n",
    "smoothing_period = 10 * 60\n",
    "\n",
    "time_bin_edges = pd.array(\n",
    "    pd.date_range(analysis_time_range[0], analysis_time_range[1], freq=f\"{smoothing_period}s\"), dtype=\"datetime64[ns]\"\n",
    ")\n",
    "\n",
    "prepocessor_object = Preprocessor(\n",
    "    time_bin_edges=time_bin_edges, sensor_object=sensor_group, met_object=met_object, aggregate_function=\"median\"\n",
    ")\n",
    "\n",
    "min_wind_speed = 0.05\n",
    "prepocessor_object.filter_on_met(filter_variable=[\"wind_speed\"], lower_limit=[min_wind_speed], upper_limit=[np.inf])"
   ]
  },
  {
   "cell_type": "code",
   "execution_count": null,
   "id": "0cd96e2d-2f35-464a-b088-1b8f3f704316",
   "metadata": {},
   "outputs": [],
   "source": [
    "fig = go.Figure()\n",
    "fig = prepocessor_object.sensor_object.plot_timeseries(fig=fig)\n",
    "fig.update_layout(height=800, margin={\"r\": 0, \"t\": 0, \"l\": 0, \"b\": 0})\n",
    "fig.show()"
   ]
  },
  {
   "cell_type": "markdown",
   "id": "287631c6-a3c2-4e9b-a531-310f20337f09",
   "metadata": {},
   "source": [
    "We set up the different parameters for our MCMC model"
   ]
  },
  {
   "cell_type": "code",
   "execution_count": 17,
   "id": "1e1d54a0-f3da-4cd4-a171-f12941ba6e3a",
   "metadata": {},
   "outputs": [],
   "source": [
    "source_model = Normal()\n",
    "source_model.emission_rate_mean = np.array([0], ndmin=1)\n",
    "source_model.initial_precision = np.array([1 / (2.5**2)], ndmin=1)\n",
    "source_model.reversible_jump = True\n",
    "source_model.rate_num_sources = 1.0\n",
    "source_model.dispersion_model = dispersion_model\n",
    "source_model.update_precision = False\n",
    "source_model.site_limits = site_limits\n",
    "source_model.coverage_detection = 0.1  # ppm\n",
    "source_model.coverage_test_source = 3.0  # kg/hr\n",
    "\n",
    "background = SpatioTemporalBackground()\n",
    "background.n_time = None\n",
    "background.mean_bg = 2.0\n",
    "background.spatial_dependence = True\n",
    "background.initial_precision = 1 / np.power(3e-4, 2)\n",
    "background.precision_time_0 = 1 / np.power(0.1, 2)\n",
    "background.spatial_correlation_param = 25.0\n",
    "background.update_precision = False\n",
    "\n",
    "offset_model = PerSensor()\n",
    "offset_model.update_precision = False\n",
    "offset_model.initial_precision = 1 / (0.001) ** 2\n",
    "\n",
    "error_model = BySensor()\n",
    "error_model.initial_precision = 1 / (0.1) ** 2\n",
    "error_model.prior_precision_shape = 1e-2\n",
    "error_model.prior_precision_rate = 1e-2"
   ]
  },
  {
   "cell_type": "markdown",
   "id": "f4dad5da-e4f2-42db-baac-c5b7b28577d4",
   "metadata": {},
   "source": [
    "We create an instance of the ELQModel class which forms the interface with the MCMC repo and run the MCMC algorithm. Finally we plot the results"
   ]
  },
  {
   "cell_type": "code",
   "execution_count": null,
   "id": "241d1ea1-9935-417b-b1d2-296983aca7b8",
   "metadata": {},
   "outputs": [],
   "source": [
    "elq_model = ELQModel(\n",
    "    sensor_object=prepocessor_object.sensor_object,\n",
    "    meteorology=prepocessor_object.met_object,\n",
    "    gas_species=gas_object,\n",
    "    background=background,\n",
    "    source_model=source_model,\n",
    "    error_model=error_model,\n",
    "    offset_model=offset_model,\n",
    ")\n",
    "elq_model.n_iter = 5000\n",
    "\n",
    "elq_model.initialise()\n",
    "\n",
    "elq_model.to_mcmc()\n",
    "elq_model.run_mcmc()\n",
    "elq_model.from_mcmc()"
   ]
  },
  {
   "cell_type": "markdown",
   "id": "c2aeb999-c423-4e97-a0eb-781826d1d308",
   "metadata": {},
   "source": [
    "Finally plotting the results in a separate cell. Note that you can plot all plots in 1 go as well using `plotter.show_all()`"
   ]
  },
  {
   "cell_type": "code",
   "execution_count": null,
   "id": "259ea88c-086b-4b4a-bbc3-d49761c22fdb",
   "metadata": {},
   "outputs": [],
   "source": [
    "burn_in = elq_model.n_iter - 1000\n",
    "\n",
    "plotter = Plot()\n",
    "\n",
    "plotter.plot_quantification_results_on_map(\n",
    "    model_object=elq_model, bin_size_x=1, bin_size_y=1, normalized_count_limit=0.1, burn_in=burn_in\n",
    ")\n",
    "\n",
    "plotter.plot_fitted_values_per_sensor(\n",
    "    mcmc_object=elq_model.mcmc, sensor_object=elq_model.sensor_object, burn_in=burn_in\n",
    ")\n",
    "\n",
    "true_source_location_trace = go.Scattermap(\n",
    "    mode=\"markers\",\n",
    "    lon=source_map.location.to_lla().longitude,\n",
    "    lat=source_map.location.to_lla().latitude,\n",
    "    name=\"True locations\",\n",
    "    marker=go.scattermap.Marker(color=\"green\", size=10),\n",
    ")"
   ]
  },
  {
   "cell_type": "code",
   "execution_count": null,
   "id": "82c1288e-4610-4b4c-946c-0a420d4358ee",
   "metadata": {},
   "outputs": [],
   "source": [
    "plotter.figure_dict[\"fitted_values\"].update_layout(height=800, margin={\"r\": 0, \"t\": 50, \"l\": 0, \"b\": 0}).show()"
   ]
  },
  {
   "cell_type": "markdown",
   "id": "b5341479-f129-4217-af2e-d703803cba53",
   "metadata": {},
   "source": [
    "Note we could have also used this call to plot the fitted values figure:\n",
    "`plotter = elq_model.plot_fitted_values(plot=plotter)`"
   ]
  },
  {
   "cell_type": "code",
   "execution_count": null,
   "id": "46563585-d29e-4133-85be-810750da7d33",
   "metadata": {},
   "outputs": [],
   "source": [
    "plotter = elq_model.plot_fitted_values(plot=plotter)\n",
    "plotter.figure_dict[\"fitted_values\"].update_layout(height=800, margin={\"r\": 0, \"t\": 50, \"l\": 0, \"b\": 0}).show()"
   ]
  },
  {
   "cell_type": "code",
   "execution_count": null,
   "id": "6bd52d03-4af7-4726-b3be-ec140bd0b2db",
   "metadata": {},
   "outputs": [],
   "source": [
    "plotter.figure_dict[\"count_map\"].add_trace(true_source_location_trace).update_traces(showlegend=True)\n",
    "plotter.figure_dict[\"count_map\"].update_layout(height=800, margin={\"r\": 0, \"t\": 50, \"l\": 0, \"b\": 0}, map_zoom=19)\n",
    "plotter.figure_dict[\"count_map\"].show()"
   ]
  },
  {
   "cell_type": "code",
   "execution_count": null,
   "id": "e0577aa7-6560-4bff-bb8a-25146eca36ff",
   "metadata": {},
   "outputs": [],
   "source": [
    "plotter.figure_dict[\"iqr_map\"].add_trace(true_source_location_trace).update_traces(showlegend=True)\n",
    "plotter.figure_dict[\"iqr_map\"].update_layout(height=800, margin={\"r\": 0, \"t\": 50, \"l\": 0, \"b\": 0}, map_zoom=19)\n",
    "plotter.figure_dict[\"iqr_map\"].show()"
   ]
  },
  {
   "cell_type": "code",
   "execution_count": null,
   "id": "458e0125-e64f-45a4-ba6d-c1a07f9d43ea",
   "metadata": {},
   "outputs": [],
   "source": [
    "plotter.figure_dict[\"median_map\"].add_trace(true_source_location_trace).update_traces(showlegend=True)\n",
    "plotter.figure_dict[\"median_map\"].update_layout(height=800, margin={\"r\": 0, \"t\": 50, \"l\": 0, \"b\": 0}, map_zoom=19)\n",
    "plotter.figure_dict[\"median_map\"].show()"
   ]
  },
  {
   "cell_type": "code",
   "execution_count": null,
   "id": "4b3ddc5e-d0f1-4570-a37d-5399249b85d0",
   "metadata": {},
   "outputs": [],
   "source": [
    "plotter = elq_model.plot_log_posterior(burn_in_value=burn_in, plot=plotter)\n",
    "plotter.figure_dict[\"log_posterior_plot\"].show()"
   ]
  },
  {
   "cell_type": "code",
   "execution_count": null,
   "id": "291e018b-afae-46d1-affb-71c99d3c3d31",
   "metadata": {},
   "outputs": [],
   "source": [
    "plotter = elq_model.components[\"source\"].plot_iterations(plot=plotter, burn_in_value=burn_in, y_axis_type=\"linear\")\n",
    "plotter = elq_model.components[\"source\"].plot_iterations(plot=plotter, burn_in_value=burn_in, y_axis_type=\"log\")\n",
    "\n",
    "plotter.figure_dict[\"estimated_values_plot\"].show()\n",
    "plotter.figure_dict[\"log_estimated_values_plot\"].show()\n",
    "plotter.figure_dict[\"number_of_sources_plot\"].show()"
   ]
  },
  {
   "cell_type": "code",
   "execution_count": null,
   "id": "1c2058b5-4655-46ea-ab41-5551840b69d6",
   "metadata": {},
   "outputs": [],
   "source": [
    "plotter = elq_model.components[\"offset\"].plot_iterations(\n",
    "    plot=plotter, sensor_object=elq_model.sensor_object, burn_in_value=burn_in\n",
    ")\n",
    "plotter = elq_model.components[\"offset\"].plot_distributions(\n",
    "    plot=plotter, sensor_object=elq_model.sensor_object, burn_in_value=burn_in\n",
    ")\n",
    "plotter.figure_dict[\"offset_iterations\"].show()\n",
    "plotter.figure_dict[\"offset_distributions\"].show()"
   ]
  },
  {
   "cell_type": "code",
   "execution_count": null,
   "id": "adf43b37-17fc-4fe0-85cb-8894b209edbd",
   "metadata": {},
   "outputs": [],
   "source": [
    "plotter = elq_model.components[\"error_model\"].plot_iterations(\n",
    "    plot=plotter, sensor_object=elq_model.sensor_object, burn_in_value=burn_in\n",
    ")\n",
    "plotter = elq_model.components[\"error_model\"].plot_distributions(\n",
    "    plot=plotter, sensor_object=elq_model.sensor_object, burn_in_value=burn_in\n",
    ")\n",
    "plotter.figure_dict[\"error_model_iterations\"].show()\n",
    "plotter.figure_dict[\"error_model_distributions\"].show()"
   ]
  },
  {
   "cell_type": "markdown",
   "id": "740cba99-8865-41a2-8661-b4e083fc8f4c",
   "metadata": {},
   "source": [
    "Finally we show all keys of figures present. As said before we could have just created all figures and perform one call to `plotter.show_all()` which shows all figures at once."
   ]
  },
  {
   "cell_type": "code",
   "execution_count": null,
   "id": "5e288724-d16d-4cd7-8bd4-c529f5b02772",
   "metadata": {},
   "outputs": [],
   "source": [
    "list(plotter.figure_dict.keys())"
   ]
  }
 ],
 "metadata": {
  "kernelspec": {
   "display_name": ".venv",
   "language": "python",
   "name": "python3"
  },
  "language_info": {
   "codemirror_mode": {
    "name": "ipython",
    "version": 3
   },
   "file_extension": ".py",
   "mimetype": "text/x-python",
   "name": "python",
   "nbconvert_exporter": "python",
   "pygments_lexer": "ipython3",
   "version": "3.11.4"
  }
 },
 "nbformat": 4,
 "nbformat_minor": 5
}
